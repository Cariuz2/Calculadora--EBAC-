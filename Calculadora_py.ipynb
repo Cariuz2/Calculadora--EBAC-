{
  "nbformat": 4,
  "nbformat_minor": 0,
  "metadata": {
    "colab": {
      "provenance": []
    },
    "kernelspec": {
      "name": "python3",
      "display_name": "Python 3"
    },
    "language_info": {
      "name": "python"
    }
  },
  "cells": [
    {
      "cell_type": "markdown",
      "source": [],
      "metadata": {
        "id": "ZC2_Q0kyt43c"
      }
    },
    {
      "cell_type": "markdown",
      "source": [
        "* 1º Coleta as informações como o número 1 (num1) eu número 2 (num2);\n",
        "* 2º Confirma os número selecionados;\n",
        "* 3º Requisita a operação (operacao) que pode variar entre soma (+), subtração (-), multiplicação (*) e divisão(/);\n",
        "* 4º Entrega do resultado com a operação indicada."
      ],
      "metadata": {
        "id": "z5B8FMohtQVC"
      }
    },
    {
      "cell_type": "code",
      "source": [
        "#variáveis\n",
        "num1 = 0\n",
        "num2 = 0\n",
        "resultado = 0"
      ],
      "metadata": {
        "id": "rBwyBIb8nzoZ"
      },
      "execution_count": null,
      "outputs": []
    },
    {
      "cell_type": "code",
      "source": [
        "9#coleta os dados e a operação\n",
        "print(\"Insira dois número: \")\n",
        "\n",
        "#número 1 & número 2\n",
        "num1 = float(input(\"Número 1: \"))\n",
        "num2 = float(input(\"Número 2: \"))\n",
        "print(\"Você escolheu: \",num1, \" e \", num2)\n",
        "\n",
        "#seleção da operação\n",
        "print(\"Selecione a operação (+,-,/,*)\")\n",
        "operacao = input(\"\")"
      ],
      "metadata": {
        "collapsed": true,
        "id": "L9ofS9L_n-f7"
      },
      "execution_count": null,
      "outputs": []
    },
    {
      "cell_type": "code",
      "source": [
        "#realiza as operações\n",
        "print(\"você selecionou a operação de: \",operacao)\n",
        "if operacao == \"+\":\n",
        "    resultado = num1 + num2\n",
        "\n",
        "if operacao == \"-\":\n",
        "    resultado = num1 = num2\n",
        "\n",
        "if operacao == \"/\":\n",
        "    resultado = num1/num2\n",
        "\n",
        "if operacao == \"*\":\n",
        "    resultado = num1*num2\n",
        "\n",
        "#resultado\n",
        "print(\"o resultado é: \",resultado)\n"
      ],
      "metadata": {
        "collapsed": true,
        "id": "9jo-9VXPoH4-"
      },
      "execution_count": null,
      "outputs": []
    }
  ]
}